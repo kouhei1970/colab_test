{
  "cells": [
    {
      "cell_type": "markdown",
      "metadata": {
        "id": "view-in-github",
        "colab_type": "text"
      },
      "source": [
        "<a href=\"https://colab.research.google.com/github/kouhei1970/colab_test/blob/main/loopshape.ipynb\" target=\"_parent\"><img src=\"https://colab.research.google.com/assets/colab-badge.svg\" alt=\"Open In Colab\"/></a>"
      ]
    },
    {
      "cell_type": "code",
      "source": [
        "!pip install control"
      ],
      "metadata": {
        "id": "10bgQ51EyvFi"
      },
      "id": "10bgQ51EyvFi",
      "execution_count": null,
      "outputs": []
    },
    {
      "cell_type": "code",
      "execution_count": null,
      "id": "421e61e1-a172-441c-9a65-2b300a9f01ae",
      "metadata": {
        "id": "421e61e1-a172-441c-9a65-2b300a9f01ae"
      },
      "outputs": [],
      "source": [
        "import control as ctrl\n",
        "import numpy as np\n",
        "import matplotlib.pyplot as plt"
      ]
    },
    {
      "cell_type": "code",
      "execution_count": null,
      "id": "d2ce6ed5-4824-41b4-a1b9-0d72a687dbac",
      "metadata": {
        "id": "d2ce6ed5-4824-41b4-a1b9-0d72a687dbac"
      },
      "outputs": [],
      "source": [
        "#StampFlyのパラメータを計算する\n",
        "\n",
        "mass=0.035 #kg\n",
        "gravity=9.81 #m/s^2\n",
        "Ct=1.e-8 # thrust coefficient\n",
        "Cq=9.71e-11 # torque coefficient\n",
        "kappa = Cq/Ct\n",
        "Dm=3.25e-8 #motor 粘性抵抗係数\n",
        "Rm = 0.34 # motor resistance\n",
        "Km = 6.15e-4 # motor torque constant\n",
        "Jm=2.01e-8 # motor rotor inertia\n",
        "Ix=9.16e-6 # moment of inertia around x axis\n",
        "Iy=13.3e-6 # moment of inertia around y axis\n",
        "Iz=20.4e-6 # moment of inertia around z axis\n",
        "motor_arm_length = 0.065/2 # motor arm length\n",
        "\n",
        "#ホバリングプロペラ回転数を計算\n",
        "omega0=0.5*np.sqrt(mass*gravity/Ct)\n",
        "\n",
        "#モータ伝達関数の時定数とゲインを計算\n",
        "motor_transfer_function_den = Dm*Rm+Km**2+2*Rm*Cq*omega0\n",
        "motor_time_constant = (Jm*Rm)/motor_transfer_function_den\n",
        "motor_gain = Km/motor_transfer_function_den\n",
        "\n",
        "#ロールレート・ピッチレート・ヨーレート伝達関数ゲインを計算\n",
        "roll_gain  = 2*motor_arm_length*Ct*omega0*motor_gain/Ix\n",
        "pitch_gain = 2*motor_arm_length*Ct*omega0*motor_gain/Iy\n",
        "yaw_gain   = 2*kappa*Ct*omega0*motor_gain/Iz\n",
        "\n",
        "print(\"omega0=\", omega0, \"rad/s\" )\n",
        "print(\"omega0=\", omega0*60/(2*np.pi), \"rpm\" )\n",
        "print(\"motor_time_constant=\", motor_time_constant)\n",
        "print(\"motor_gain=\", motor_gain)\n",
        "print(\"roll_gain=\", roll_gain)\n",
        "print(\"pitch_gain=\", pitch_gain)\n",
        "print(\"yaw_gain=\", yaw_gain)"
      ]
    },
    {
      "cell_type": "code",
      "execution_count": null,
      "id": "a2d46cef-c96e-4f9a-8e7c-d4cead54b384",
      "metadata": {
        "id": "a2d46cef-c96e-4f9a-8e7c-d4cead54b384"
      },
      "outputs": [],
      "source": [
        "sys_roll = ctrl.tf([roll_gain], [motor_time_constant, 1, 0])\n",
        "sys_pitch = ctrl.tf([pitch_gain], [motor_time_constant, 1, 0])\n",
        "sys_yaw = ctrl.tf([yaw_gain], [motor_time_constant, 1, 0])\n",
        "\n",
        "#margin\n",
        "gain_margin_roll, phase_margin_roll, _, _ = ctrl.margin(sys_roll)\n",
        "gain_margin_pitch, phase_margin_pitch, _, _ = ctrl.margin(sys_pitch)\n",
        "gain_margin_yaw, phase_margin_yaw, _, _ = ctrl.margin(sys_yaw)\n",
        "\n",
        "print(\"sys_roll=\", sys_roll)\n",
        "print(\"sys_pitch=\", sys_pitch)\n",
        "print(\"sys_yaw=\", sys_yaw)\n",
        "\n",
        "print(\"\\n#Margin\")\n",
        "print(\"phase_margin_roll=\", phase_margin_roll)\n",
        "print(\"phase_margin_pitch=\", phase_margin_pitch)\n",
        "print(\"phase_margin_yaw=\", phase_margin_yaw)\n"
      ]
    },
    {
      "cell_type": "code",
      "execution_count": null,
      "id": "0bd5b93e-68a0-4ceb-9be6-284233ae57e0",
      "metadata": {
        "id": "0bd5b93e-68a0-4ceb-9be6-284233ae57e0"
      },
      "outputs": [],
      "source": [
        "#bode plot\n",
        "ctrl.bode([sys_roll,sys_pitch,sys_yaw], dB=True)\n",
        "plt.show()"
      ]
    },
    {
      "cell_type": "code",
      "execution_count": null,
      "id": "716fe2c4-b9db-4360-988b-4e7ccd6eb4b8",
      "metadata": {
        "editable": true,
        "tags": [],
        "id": "716fe2c4-b9db-4360-988b-4e7ccd6eb4b8"
      },
      "outputs": [],
      "source": [
        "Kp_roll =  0.72\n",
        "Kp_pitch = 1.045\n",
        "Kp_yaw = 5.37\n",
        "sys_roll_loop = Kp_roll * sys_roll\n",
        "sys_pitch_loop = Kp_pitch * sys_pitch\n",
        "sys_yaw_loop = Kp_yaw * sys_yaw\n",
        "gain_margin_roll_loop, phase_margin_roll_loop, gain_cross_freq_roll, phase_cross_freq_roll = ctrl.margin(sys_roll_loop)\n",
        "gain_margin_pitch_loop, phase_margin_pitch_loop, gain_cross_freq_pitch, phase_cross_freq_pitch = ctrl.margin(sys_pitch_loop)\n",
        "gain_margin_yaw_loop, phase_margin_yaw_loop, gain_cross_freq_yaw, phase_cross_freq_yaw = ctrl.margin(sys_yaw_loop)\n",
        "\n",
        "print(\"phase_margin_roll_loop=\", phase_margin_roll_loop)\n",
        "print(\"phase_cross_freq_roll=\", phase_cross_freq_roll)\n",
        "print(\"phase_margin_pitch_loop=\", phase_margin_pitch_loop)\n",
        "print(\"phase_cross_freq_pitch=\", phase_cross_freq_pitch)\n",
        "print(\"phase_margin_yaw_loop=\", phase_margin_yaw_loop)\n",
        "print(\"phase_cross_freq_yaw=\", phase_cross_freq_yaw)\n"
      ]
    },
    {
      "cell_type": "code",
      "execution_count": null,
      "id": "c6f28ae5",
      "metadata": {
        "id": "c6f28ae5"
      },
      "outputs": [],
      "source": [
        "ctrl.bode([sys_roll_loop, sys_pitch_loop,sys_yaw_loop], dB=True)\n",
        "plt.show()"
      ]
    },
    {
      "cell_type": "code",
      "execution_count": null,
      "id": "e2772e65",
      "metadata": {
        "id": "e2772e65"
      },
      "outputs": [],
      "source": [
        "sys_roll_close = ctrl.feedback(sys_roll_loop, 1)\n",
        "sys_pitch_close = ctrl.feedback(sys_pitch_loop, 1)\n",
        "sys_yaw_close = ctrl.feedback(sys_yaw_loop, 1)\n",
        "t0 = np.linspace(0, 0.3, 1000)\n",
        "t1, y1 = ctrl.step_response(sys_roll_close, t0)\n",
        "t2, y2 = ctrl.step_response(sys_pitch_close, t0)\n",
        "t3, y3 = ctrl.step_response(sys_pitch_close, t0)\n",
        "\n",
        "plt.plot(t1, y1)\n",
        "plt.plot(t2, y2)\n",
        "plt.plot(t3, y3)\n",
        "plt.grid()\n",
        "plt.title(\"step response of rate\")\n",
        "plt.xlabel(\"time [s]\")\n",
        "plt.ylabel(\"rate [rad/s]\")\n",
        "plt.legend([\"roll\", \"pitch\", \"yaw\"])\n",
        "plt.show()"
      ]
    },
    {
      "cell_type": "code",
      "execution_count": null,
      "id": "f0d1cc6d-b39c-4b0f-bbf5-3ebec18d4c04",
      "metadata": {
        "id": "f0d1cc6d-b39c-4b0f-bbf5-3ebec18d4c04"
      },
      "outputs": [],
      "source": [
        "#不完全微分付きPIDコントローラ\n",
        "#roll\n",
        "kp_roll=0.0475\n",
        "ti_roll=0.8\n",
        "td_roll = 0.8\n",
        "eta_roll = 0.0125\n",
        "sysi_roll = ctrl.tf(1, [ti_roll, 0])\n",
        "sysd_roll = ctrl.tf([td_roll, 0], [eta_roll*td_roll, 1])\n",
        "sys_roll_pid = kp_roll*(1+sysi_roll + sysd_roll)\n",
        "print(sys_roll_pid)\n",
        "\n",
        "#pitch\n",
        "kp_pitch=0.07\n",
        "ti_pitch=0.8\n",
        "td_pitch = 0.8\n",
        "eta_pitch = 0.0125\n",
        "sysi_pitch = ctrl.tf(1, [ti_pitch, 0])\n",
        "sysd_pitch = ctrl.tf([td_pitch, 0], [eta_pitch*td_pitch, 1])\n",
        "sys_pitch_pid = kp_pitch*(1+sysi_pitch + sysd_pitch)\n",
        "print(sys_pitch_pid)\n",
        "\n",
        "#yaw\n",
        "kp_yaw=0.06\n",
        "ti_yaw=0.8\n",
        "td_yaw = 0.8\n",
        "eta_yaw = 0.0125\n",
        "sysi_yaw = ctrl.tf(1, [ti_yaw, 0])\n",
        "sysd_yaw = ctrl.tf([td_yaw, 0], [eta_yaw*td_yaw, 1])\n",
        "sys_yaw_pid = kp_yaw*(1+sysi_yaw + sysd_yaw)\n",
        "print(sys_yaw_pid)\n",
        "\n",
        "gain_margin_roll_loop, phase_margin_roll_loop, gain_cross_freq_roll, phase_cross_freq_roll = ctrl.margin(sys_roll*sys_roll_pid)\n",
        "gain_margin_pitch_loop, phase_margin_pitch_loop, gain_cross_freq_pitch, phase_cross_freq_pitch = ctrl.margin(sys_pitch*sys_pitch_pid)\n",
        "gain_margin_yaw_loop, phase_margin_yaw_loop, gain_cross_freq_yaw, phase_cross_freq_yaw = ctrl.margin(sys_yaw*sys_yaw_pid)\n",
        "\n",
        "print(\"phase_margin_roll_loop=\", phase_margin_roll_loop)\n",
        "print(\"phase_cross_freq_roll=\", phase_cross_freq_roll)\n",
        "print(\"phase_margin_pitch_loop=\", phase_margin_pitch_loop)\n",
        "print(\"phase_cross_freq_pitch=\", phase_cross_freq_pitch)\n",
        "print(\"phase_margin_yaw_loop=\", phase_margin_yaw_loop)\n",
        "print(\"phase_cross_freq_yaw=\", phase_cross_freq_yaw)"
      ]
    },
    {
      "cell_type": "code",
      "source": [
        "ctrl.bode([sys_roll_pid,sys_pitch_pid,sys_yaw_pid], dB=True)\n",
        "plt.legend([\"roll\", \"pitch\", \"yaw\"])\n",
        "plt.show()"
      ],
      "metadata": {
        "id": "LIWdOw-j3E1L"
      },
      "id": "LIWdOw-j3E1L",
      "execution_count": null,
      "outputs": []
    },
    {
      "cell_type": "code",
      "source": [
        "ctrl.bode([sys_roll_pid*sys_roll, sys_pitch_pid*sys_pitch, sys_yaw_pid*sys_yaw], dB=True)\n",
        "plt.legend([\"roll\", \"pitch\", \"yaw\"])\n",
        "plt.show()"
      ],
      "metadata": {
        "id": "AHs-atw6cGKl"
      },
      "id": "AHs-atw6cGKl",
      "execution_count": null,
      "outputs": []
    },
    {
      "cell_type": "code",
      "source": [],
      "metadata": {
        "id": "Qvy--MwLeqWb"
      },
      "id": "Qvy--MwLeqWb",
      "execution_count": null,
      "outputs": []
    }
  ],
  "metadata": {
    "kernelspec": {
      "display_name": "Python 3 (ipykernel)",
      "language": "python",
      "name": "python3"
    },
    "language_info": {
      "codemirror_mode": {
        "name": "ipython",
        "version": 3
      },
      "file_extension": ".py",
      "mimetype": "text/x-python",
      "name": "python",
      "nbconvert_exporter": "python",
      "pygments_lexer": "ipython3",
      "version": "3.10.14"
    },
    "colab": {
      "provenance": [],
      "include_colab_link": true
    }
  },
  "nbformat": 4,
  "nbformat_minor": 5
}